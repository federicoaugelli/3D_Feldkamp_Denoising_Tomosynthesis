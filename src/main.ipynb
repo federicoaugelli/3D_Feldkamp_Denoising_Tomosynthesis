{
  "cells": [
    {
      "cell_type": "code",
      "source": [
        "!pip install astra-toolbox\n",
        "!pip install pyellipsoid"
      ],
      "metadata": {
        "id": "Uz_2cDK6A1Ou",
        "outputId": "1de81071-4815-4cd3-96fe-e0e1543f3223",
        "colab": {
          "base_uri": "https://localhost:8080/"
        }
      },
      "execution_count": 1,
      "outputs": [
        {
          "output_type": "stream",
          "name": "stdout",
          "text": [
            "Requirement already satisfied: astra-toolbox in /usr/local/lib/python3.11/dist-packages (2.3.1.post0)\n",
            "Requirement already satisfied: numpy in /usr/local/lib/python3.11/dist-packages (from astra-toolbox) (2.0.2)\n",
            "Requirement already satisfied: scipy in /usr/local/lib/python3.11/dist-packages (from astra-toolbox) (1.15.3)\n",
            "Requirement already satisfied: nvidia-cuda-runtime-cu12==12.5.82 in /usr/local/lib/python3.11/dist-packages (from astra-toolbox) (12.5.82)\n",
            "Requirement already satisfied: nvidia-cufft-cu12==11.2.3.61 in /usr/local/lib/python3.11/dist-packages (from astra-toolbox) (11.2.3.61)\n",
            "Requirement already satisfied: nvidia-nvjitlink-cu12 in /usr/local/lib/python3.11/dist-packages (from nvidia-cufft-cu12==11.2.3.61->astra-toolbox) (12.5.82)\n",
            "Requirement already satisfied: pyellipsoid in /usr/local/lib/python3.11/dist-packages (0.0.3)\n",
            "Requirement already satisfied: numpy in /usr/local/lib/python3.11/dist-packages (from pyellipsoid) (2.0.2)\n"
          ]
        }
      ]
    },
    {
      "cell_type": "code",
      "source": [
        "from feldkamp import Feldkamp\n",
        "import numpy as np\n",
        "from create_dataset import get_data, to_tif, to_np\n",
        "import os"
      ],
      "metadata": {
        "id": "FImb-hDWA5I-"
      },
      "execution_count": 2,
      "outputs": []
    },
    {
      "cell_type": "code",
      "source": [
        "num_projections = 11\n",
        "tif_path = './dataset/tif/'\n",
        "np_path = './dataset/np/'\n",
        "dim = (2, 256, 256, 50)\n",
        "num_vols = 25"
      ],
      "metadata": {
        "id": "pwR_jhA7JfX7"
      },
      "execution_count": 3,
      "outputs": []
    },
    {
      "cell_type": "code",
      "source": [
        "if not os.path.exists(np_path):\n",
        "    os.makedirs(np_path)\n",
        "if not os.path.exists(tif_path):\n",
        "    os.makedirs(tif_path)\n",
        "if not os.listdir(np_path):\n",
        "    ellipsoid_data = get_data(dim)\n",
        "    to_tif(ellipsoid_data, tif_path, type='xy')\n",
        "    to_np(ellipsoid_data, np_path)"
      ],
      "metadata": {
        "id": "52gtB0bHJ4BQ"
      },
      "execution_count": 4,
      "outputs": []
    },
    {
      "cell_type": "code",
      "source": [
        "path = './dataset/tif/'\n",
        "Feldkamp = Feldkamp(path)"
      ],
      "metadata": {
        "id": "FSIVuKCkBGfT",
        "outputId": "96297e4b-0980-4fde-8c83-77e75217f498",
        "colab": {
          "base_uri": "https://localhost:8080/"
        }
      },
      "execution_count": 5,
      "outputs": [
        {
          "output_type": "stream",
          "name": "stdout",
          "text": [
            "Coordinate della sorgente ottenute:\n",
            "         x          y          z\n",
            "  -1671.97    -128.00    6264.88\n",
            "  -1343.11    -128.00    6343.83\n",
            "  -1010.57    -128.00    6405.47\n",
            "   -675.25    -128.00    6449.61\n",
            "   -338.09    -128.00    6476.15\n",
            "      0.00    -128.00    6485.00\n",
            "    338.09    -128.00    6476.15\n",
            "    675.25    -128.00    6449.61\n",
            "   1010.57    -128.00    6405.47\n",
            "   1343.11    -128.00    6343.83\n",
            "   1671.97    -128.00    6264.88\n"
          ]
        }
      ]
    },
    {
      "cell_type": "code",
      "source": [
        "Feldkamp.run()"
      ],
      "metadata": {
        "id": "SFVCnWUbBzu-",
        "outputId": "3a6e58c0-d1cf-4dd0-b93a-31e1b258a597",
        "colab": {
          "base_uri": "https://localhost:8080/"
        }
      },
      "execution_count": 6,
      "outputs": [
        {
          "output_type": "stream",
          "name": "stderr",
          "text": [
            "Elaborazione volumi: 0volume [00:00, ?volume/s]\n"
          ]
        }
      ]
    },
    {
      "cell_type": "code",
      "source": [
        "import numpy as np\n",
        "import matplotlib.pyplot as plt\n",
        "\n",
        "\n",
        "data = np.load('reconstructions.npz')\n",
        "\n",
        "\n",
        "print(\"Chiavi disponibili nel file:\", data.files)\n",
        "\n",
        "\n",
        "volumes = data['volumes']\n",
        "print(\"Shape dei volumi:\", volumes.shape)"
      ],
      "metadata": {
        "id": "PzR-tGBNCkcJ",
        "outputId": "7016a783-fa6d-48f1-b3a2-befaaad7331c",
        "colab": {
          "base_uri": "https://localhost:8080/"
        }
      },
      "execution_count": 7,
      "outputs": [
        {
          "output_type": "stream",
          "name": "stdout",
          "text": [
            "Chiavi disponibili nel file: ['volumes', 'volume_name', 'noise_level', 'metadata']\n",
            "Shape dei volumi: (10, 50, 256, 256)\n"
          ]
        }
      ]
    }
  ],
  "metadata": {
    "colab": {
      "name": "Welcome To Colab",
      "provenance": [],
      "gpuType": "T4"
    },
    "kernelspec": {
      "display_name": "Python 3",
      "name": "python3"
    },
    "accelerator": "GPU"
  },
  "nbformat": 4,
  "nbformat_minor": 0
}